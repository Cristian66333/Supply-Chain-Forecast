{
 "cells": [
  {
   "attachments": {},
   "cell_type": "markdown",
   "id": "fd8036c2",
   "metadata": {},
   "source": [
    "## IMPLEMENTATION OF NEURAL-PROPHET"
   ]
  },
  {
   "attachments": {},
   "cell_type": "markdown",
   "id": "81517222",
   "metadata": {},
   "source": [
    "##### Libraries and Modules"
   ]
  },
  {
   "cell_type": "code",
   "execution_count": null,
   "id": "e7993835-6b48-4166-8608-e40656c156a7",
   "metadata": {},
   "outputs": [],
   "source": [
    "import numpy as np\n",
    "import pandas as pd\n",
    "import itertools\n",
    "import matplotlib.pyplot as plt\n",
    "import plotly.graph_objects as go\n",
    "import plotly.graph_objects as go\n",
    "\n",
    "from datetime import datetime\n",
    "from neuralprophet import NeuralProphet\n",
    "from neuralprophet import set_random_seed\n",
    "from sklearn.metrics import mean_absolute_error, mean_squared_error"
   ]
  },
  {
   "cell_type": "code",
   "execution_count": null,
   "id": "cf54382d-ee7f-4a66-be25-339fc36e3beb",
   "metadata": {},
   "outputs": [],
   "source": [
    "# Load the original data\n",
    "processed_data = pd.read_excel('../Data/df_time_series.xlsx')"
   ]
  },
  {
   "cell_type": "code",
   "execution_count": null,
   "id": "0d928e44-1cda-47f0-8f69-9948333c9f02",
   "metadata": {},
   "outputs": [],
   "source": [
    "# Convert column 'DATE' to datetime type and set it as index\n",
    "processed_data['FECHA'] = pd.to_datetime(processed_data['FECHA'])\n",
    "# Set the index\n",
    "processed_data.set_index('FECHA', inplace=True)\n",
    "# Create a date range with a frequency of 15 days and set it as an index\n",
    "processed_data = processed_data.asfreq('15D')"
   ]
  },
  {
   "cell_type": "code",
   "execution_count": null,
   "id": "d6723558-798d-4436-a0a3-7371fce75f18",
   "metadata": {},
   "outputs": [],
   "source": [
    "# List of columns to process\n",
    "columns = ['CLORURO DE SODIO', 'LACTATO DE SODIO', 'METAMIZOL', 'PARACETAMOL', 'PROPOFOL']"
   ]
  },
  {
   "cell_type": "code",
   "execution_count": null,
   "id": "14926390-a297-490a-bfa2-11c0e5ca32f2",
   "metadata": {},
   "outputs": [],
   "source": [
    "# Iterate over each column\n",
    "for column in columns:\n",
    "    # Create the DataFrame for NeuralProphet\n",
    "    df = pd.DataFrame({\n",
    "        'ds': processed_data.index,\n",
    "        'y': processed_data[column]\n",
    "    })\n",
    "\n",
    "    # Split data into training and validation sets\n",
    "    train_size = int(len(df) * 0.8)  # 80% for training\n",
    "    train_df = df[:train_size]\n",
    "    valid_df = df[train_size:]\n",
    "\n",
    "    # Model and prediction with custom 15-day seasonality\n",
    "    m = NeuralProphet(\n",
    "        # Disable trend changepoints\n",
    "        n_changepoints=0,\n",
    "        # Disable other seasonality components\n",
    "        yearly_seasonality=False,\n",
    "        weekly_seasonality=False,\n",
    "        daily_seasonality=False,\n",
    "        # Add custom 15-day seasonality\n",
    "        seasonality_mode='additive',  # or 'multiplicative' based on your data\n",
    "        seasonality_reg=0.1,  # You can adjust regularization strength\n",
    "        n_lags=15,  # Number of lags for 15-day seasonality\n",
    "    )\n",
    "    m.set_plotting_backend(\"plotly\")\n",
    "\n",
    "    # Fit the model with training data\n",
    "    metrics = m.fit(train_df)\n",
    "\n",
    "    # Predict on the validation set\n",
    "    forecast = m.predict(valid_df)\n",
    "\n",
    "    # Adjust forecast values below 0 to 0\n",
    "    forecast['yhat1'] = forecast['yhat1'].clip(lower=0)\n",
    "\n",
    "    # Plot the forecast along with the original data and the training portion\n",
    "    fig = m.plot(forecast)\n",
    "    fig.add_scatter(x=df['ds'], y=df['y'], mode='lines', name='Original Data')\n",
    "    fig.add_scatter(x=train_df['ds'], y=train_df['y'], mode='lines', name='Training Data')\n",
    "\n",
    "    # Modify the figure, change the marker type for actual values\n",
    "    fig.update_traces(mode='lines')  # You can customize size and symbol as needed\n",
    "    \n",
    "    # Show the modified plot\n",
    "    fig.show()\n",
    "\n",
    "    print(f\"Results for column: {column}\")\n",
    "    print(metrics)\n"
   ]
  }
 ],
 "metadata": {
  "kernelspec": {
   "display_name": "Python 3 (ipykernel)",
   "language": "python",
   "name": "python3"
  },
  "language_info": {
   "codemirror_mode": {
    "name": "ipython",
    "version": 3
   },
   "file_extension": ".py",
   "mimetype": "text/x-python",
   "name": "python",
   "nbconvert_exporter": "python",
   "pygments_lexer": "ipython3",
   "version": "3.10.14"
  }
 },
 "nbformat": 4,
 "nbformat_minor": 5
}
