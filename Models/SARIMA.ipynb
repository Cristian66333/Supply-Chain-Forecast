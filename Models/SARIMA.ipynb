{
 "cells": [
  {
   "attachments": {},
   "cell_type": "markdown",
   "id": "d3852336",
   "metadata": {},
   "source": [
    "## IMPLEMENTATION OF SARIMA MODEL"
   ]
  },
  {
   "cell_type": "code",
   "execution_count": null,
   "id": "36cc2554-ad8f-45f1-af85-48d50f6fe62b",
   "metadata": {},
   "outputs": [],
   "source": [
    "# Hide Warnings\n",
    "import warnings\n",
    "warnings.filterwarnings('ignore')"
   ]
  },
  {
   "attachments": {},
   "cell_type": "markdown",
   "id": "e7e6a81e",
   "metadata": {},
   "source": [
    "### Libraries and Modules"
   ]
  },
  {
   "cell_type": "code",
   "execution_count": null,
   "id": "b776488a-903f-4b5f-985a-810b81afed1b",
   "metadata": {},
   "outputs": [],
   "source": [
    "import pandas as pd\n",
    "import matplotlib.pyplot as plt\n",
    "import numpy as np\n",
    "import seaborn as sns\n",
    "import matplotlib.ticker as ticker\n",
    "\n",
    "from statsmodels.tsa.stattools import adfuller\n",
    "from statsmodels.graphics.tsaplots import plot_acf, plot_pacf\n",
    "from statsmodels.tsa.statespace.sarimax import SARIMAX\n",
    "from sklearn.model_selection import train_test_split\n",
    "from sklearn.metrics import mean_squared_error, mean_absolute_error"
   ]
  },
  {
   "attachments": {},
   "cell_type": "markdown",
   "id": "161051fc-a8f1-4681-ac17-f6d76e1dc853",
   "metadata": {},
   "source": [
    "### Load data and set frequency"
   ]
  },
  {
   "cell_type": "code",
   "execution_count": null,
   "id": "be67bb4d-dcb6-4363-822b-4d47b8986d59",
   "metadata": {},
   "outputs": [],
   "source": [
    "# Load the original data\n",
    "processed_data = pd.read_excel('../Data/df_time_series.xlsx')"
   ]
  },
  {
   "cell_type": "code",
   "execution_count": null,
   "id": "698d0539-509b-4356-8b40-58d85bf102b7",
   "metadata": {},
   "outputs": [],
   "source": [
    "# Convert column 'DATE' to datetime type and set it as index\n",
    "processed_data['FECHA'] = pd.to_datetime(processed_data['FECHA'])\n",
    "# Set the index\n",
    "processed_data.set_index('FECHA', inplace=True)\n",
    "# Create a date range with a frequency of 15 days and set it as an index\n",
    "processed_data = processed_data.asfreq('15D')\n",
    "# Check the index with the set frequency\n",
    "print(processed_data.index)"
   ]
  },
  {
   "attachments": {},
   "cell_type": "markdown",
   "id": "4910961a-15b1-41e6-a7f8-aac3bd5a1263",
   "metadata": {},
   "source": [
    "### Plot Distribution for each principle active"
   ]
  },
  {
   "cell_type": "code",
   "execution_count": null,
   "id": "57a060bd-e98b-4ef1-8fb0-f833e7284e9e",
   "metadata": {
    "scrolled": true
   },
   "outputs": [],
   "source": [
    "# Iterar sobre cada serie en el DataFrame processed_data\n",
    "for serie in processed_data.columns:\n",
    "     if serie != 'Año':\n",
    "         if serie == 'CLORURO DE SODIO' or serie == 'LACTATO DE SODIO':\n",
    "             ylabel = 'Cantidad (L)'\n",
    "         else:\n",
    "             ylabel = 'Cantidad (G)'\n",
    "         plt.figure(figsize=(16, 5))\n",
    "         plt.plot(processed_data[serie], label=serie, linewidth=3, linestyle='solid')\n",
    "         plt.grid(True, linestyle='--', alpha=0.8)\n",
    "         plt.legend(fontsize=13)\n",
    "         plt.xlabel('Meses', fontsize=13)\n",
    "         plt.ylabel(ylabel, fontsize=13)\n",
    "         plt.gca().yaxis.set_major_formatter(ticker.FuncFormatter(lambda x, _: format(int(x), ',')))\n",
    "         plt.title(f'Distribución de la serie de {serie}'.upper(), fontsize=15)\n",
    "         plt.show()"
   ]
  },
  {
   "attachments": {},
   "cell_type": "markdown",
   "id": "6f977408-2a26-4715-b197-8774e04d4119",
   "metadata": {},
   "source": [
    "### Augmented Dickey-Fuller Test for Seasonality (first difference)"
   ]
  },
  {
   "cell_type": "code",
   "execution_count": null,
   "id": "00dd9514-931f-43e7-8c53-7c294a41126a",
   "metadata": {
    "scrolled": true
   },
   "outputs": [],
   "source": [
    "# Augmented Dickey-Fuller Test for Seasonality (first difference)\n",
    "for column in processed_data:\n",
    "    result = adfuller(processed_data[column].diff().dropna())\n",
    "    print(f'ADF Statistic {column}: {result[0]}')\n",
    "    print(f'p-value: {result[1]}')\n",
    "    print('Critical Values:')\n",
    "    for key, value in result[4].items():\n",
    "        print(f'   {key}: {value} \\n')"
   ]
  },
  {
   "attachments": {},
   "cell_type": "markdown",
   "id": "e77d0a3c-fd0b-4d81-b85c-2446922ffd2a",
   "metadata": {},
   "source": [
    "### Consumption top five groups with seasonality fixed first difference"
   ]
  },
  {
   "cell_type": "code",
   "execution_count": null,
   "id": "80edf561-9099-4f5c-a5f4-9686b14d5c66",
   "metadata": {
    "scrolled": true
   },
   "outputs": [],
   "source": [
    "# Consumption top five groups with seasonality fixed first difference\n",
    "for serie in processed_data.columns:\n",
    "     if serie != 'Año':\n",
    "        if serie == 'CLORURO DE SODIO' or serie == 'LACTATO DE SODIO':\n",
    "             ylabel = 'Cantidad (L)'\n",
    "        else:\n",
    "             ylabel = 'Cantidad (G)'\n",
    "        plt.figure(figsize=(16, 5))\n",
    "        plt.plot(processed_data[serie].diff().dropna(), label=serie, linewidth=3, linestyle='solid')\n",
    "        plt.grid(True, linestyle='--', alpha=0.8)\n",
    "        plt.legend(fontsize=13)\n",
    "        plt.xlabel('Meses', fontsize=13)\n",
    "        plt.ylabel(ylabel, fontsize=13)\n",
    "        plt.title(f'Distribución de la serie de {serie}'.upper(), fontsize=15)\n",
    "        plt.show()"
   ]
  },
  {
   "attachments": {},
   "cell_type": "markdown",
   "id": "02c46acb-2f75-4ac7-8477-f392b1b6ae04",
   "metadata": {},
   "source": [
    "### Analysis of autocorrelation function (ACF) and partial autocorrelation function (PACF) first diff"
   ]
  },
  {
   "cell_type": "code",
   "execution_count": null,
   "id": "5cf65d49-89cf-4472-b02e-ff0322ee6ee1",
   "metadata": {
    "scrolled": true
   },
   "outputs": [],
   "source": [
    "# Analysis of autocorrelation function (ACF) and partial autocorrelation function (PACF) first diff\n",
    "for column in processed_data:\n",
    "    if column != 'Año':\n",
    "        if column not in ['Año', 'LACTATO DE SODIO', 'PROPOFOL']:\n",
    "            # Aplicar diferenciación solo si la columna no es LACTATO DE SODIO o PROPOFOL\n",
    "            consumption_diff = processed_data[column].diff().dropna()\n",
    "            data_to_plot = consumption_diff\n",
    "        else:\n",
    "            # Si la columna es LACTATO DE SODIO o PROPOFOL, usar datos originales\n",
    "            data_to_plot = processed_data[column]\n",
    "        # Crear una figura con dos subgráficos\n",
    "        fig, ax = plt.subplots(1, 2, figsize=(12, 4))\n",
    "    \n",
    "        # Graficar la función de autocorrelación (ACF)\n",
    "        plot_acf(consumption_diff, ax=ax[0], lags=20)\n",
    "        ax[0].set_title(f'ACF - {column}')\n",
    "    \n",
    "        # Graficar la función de autocorrelación parcial (PACF)\n",
    "        plot_pacf(consumption_diff, ax=ax[1], lags=20)\n",
    "        ax[1].set_title(f'PACF - {column}')\n",
    "    \n",
    "        plt.show()"
   ]
  },
  {
   "attachments": {},
   "cell_type": "markdown",
   "id": "2051425f-ccb4-4073-8ebd-f30473c35c41",
   "metadata": {},
   "source": [
    "### Define SARIMA parameters for all active principles"
   ]
  },
  {
   "cell_type": "code",
   "execution_count": null,
   "id": "e418267a-4d51-461f-abf7-b7937dc46fce",
   "metadata": {},
   "outputs": [],
   "source": [
    "# Define SARIMA parameters for all active principles\n",
    "sarima_params = {\n",
    "    'CLORURO DE SODIO': {'order': (2, 1, 4), 'seasonal_order': (0, 1, 1, 15)},\n",
    "    'LACTATO DE SODIO': {'order': (3, 0, 4), 'seasonal_order': (0, 0, 1, 15)},\n",
    "    'METAMIZOL': {'order': (3, 1, 3), 'seasonal_order': (0, 1, 1, 15)},\n",
    "    'PARACETAMOL': {'order': (3, 1, 4), 'seasonal_order': (0, 1, 1, 15)},\n",
    "    'PROPOFOL': {'order': (2, 0, 3), 'seasonal_order': (0, 0, 1, 15)}\n",
    "}"
   ]
  },
  {
   "attachments": {},
   "cell_type": "markdown",
   "id": "be5b1b94-3362-4083-bc3c-746f6eb85bd8",
   "metadata": {},
   "source": [
    "### Fit SARIMA models for each principle active time series, residuals distribution plotting and obtain metrics"
   ]
  },
  {
   "cell_type": "code",
   "execution_count": null,
   "id": "cc6bc9c8-9c8f-4b1a-896f-82a4d547e37d",
   "metadata": {},
   "outputs": [],
   "source": [
    "# Iterate over each active principle\n",
    "for active_principle, params in sarima_params.items():\n",
    "    # Get data for the current active principle\n",
    "    x = processed_data[active_principle]\n",
    "    # Split data into train and test sets with a 90-10 ratio\n",
    "    train, test = train_test_split(x, test_size=0.1, shuffle=False)\n",
    "    \n",
    "    # Fit SARIMA\n",
    "    model = SARIMAX(train, order=params['order'], seasonal_order=params['seasonal_order'])\n",
    "    model_fit = model.fit()\n",
    "\n",
    "    # Predictions for training RMSE\n",
    "    train_predictions = model_fit.predict(start=train.index[0], end=train.index[-1])\n",
    "    \n",
    "    forecast = model_fit.get_forecast(steps=len(test), alpha=0.05)\n",
    "    forecast_values = forecast.predicted_mean\n",
    "    conf = forecast.conf_int()\n",
    "    \n",
    "    # Clip forecast values below 0\n",
    "    forecast_values = np.maximum(forecast_values, 0)\n",
    "    \n",
    "    # Model summary\n",
    "    print(model_fit.summary())\n",
    "\n",
    "    # RMSE Train and Test\n",
    "    rmse_train = np.sqrt(mean_squared_error(train, train_predictions))\n",
    "    mse_train = mean_squared_error(train, train_predictions)\n",
    "    mae_train = mean_absolute_error(train, train_predictions)\n",
    "\n",
    "    rmse_test = np.sqrt(mean_squared_error(test, forecast_values))\n",
    "    \n",
    "    print(f\"For {active_principle}:\")\n",
    "    print(f\"Training RMSE: {rmse_train}\")\n",
    "    print(f\"Training MSE: {mse_train}\")\n",
    "    print(f\"Training MAE: {mae_train}\")\n",
    "    print(f\"Test RMSE: {rmse_test}\")\n",
    "    \n",
    "    # Plot residuals\n",
    "    residualsSar = {}\n",
    "    n_rows = 1\n",
    "    n_cols = 2\n",
    "    fig, axes = plt.subplots(n_rows, n_cols, figsize=(15, 5 * n_rows))\n",
    "    column = active_principle\n",
    "    residualsSar[column] = model_fit.resid\n",
    "    axes[0].plot(residualsSar[column], label=f'residuos')\n",
    "    axes[0].set_title(f'Residuos para {column}'.upper())\n",
    "    axes[0].set_xlabel('Rezagos')\n",
    "    axes[0].set_ylabel('Valor Residuo')\n",
    "    axes[0].legend()\n",
    "    sns.kdeplot(residualsSar[column], label=f'{column} Residuals', fill=True, ax=axes[1])\n",
    "    axes[1].set_title(f'Densidad de residuos para {column}'.upper())\n",
    "    axes[1].set_xlabel('Valor Residuo')\n",
    "    axes[1].set_ylabel('Densidad')\n",
    "    axes[1].legend()\n",
    "    plt.tight_layout()\n",
    "    plt.show()\n",
    "    \n",
    "    # Forecast data\n",
    "    # Last train data\n",
    "    last_train_date = train.index[-1]\n",
    "    \n",
    "    # Biweekly frequency\n",
    "    next_date = pd.to_datetime(last_train_date) + pd.Timedelta(days=15)\n",
    "    \n",
    "    # Generate dates for forecast data\n",
    "    forecast_dates = pd.date_range(start=next_date, periods=10, freq='15D').strftime('%Y-%m-%d').tolist()\n",
    "\n",
    "    forecast_data = {\n",
    "        'Date': forecast_dates,\n",
    "        'FC_VALUES': forecast_values,\n",
    "        'LOWER_VALUES': conf[f'lower {active_principle}'],\n",
    "        'UPPER_VALUES': conf[f'upper {active_principle}']\n",
    "    }\n",
    "\n",
    "    # Create forecast DataFrame\n",
    "    df_forecast = pd.DataFrame(forecast_data)\n",
    "    print(df_forecast)\n",
    "\n",
    "    # Set index for data series visualization\n",
    "    df_forecast['Date'] = pd.to_datetime(df_forecast['Date'])\n",
    "    df_forecast.set_index('Date', inplace=True)\n",
    "\n",
    "    # Plot\n",
    "    plt.figure(figsize=(12, 5))\n",
    "    plt.plot(train, label='Entrenamiento')\n",
    "    plt.plot(test, label='Prueba')\n",
    "    plt.plot(df_forecast['FC_VALUES'], label='Pronósticos', color='green')\n",
    "    plt.fill_between(df_forecast.index, df_forecast['LOWER_VALUES'], df_forecast['UPPER_VALUES'], color='k', alpha=0.2)\n",
    "    plt.title(f'Pronósticos serie {active_principle}'.upper())\n",
    "    plt.legend(loc='upper left', fontsize=10)\n",
    "    plt.show()\n",
    "\n",
    "    # Calculate metrics\n",
    "    mse = mean_squared_error(test, forecast_values)\n",
    "    rmse = np.sqrt(mse)\n",
    "    mae = mean_absolute_error(test, forecast_values)\n",
    "    \n",
    "    print(f\"For {active_principle}:\")\n",
    "    print(f\"RMSE: {rmse}\")\n",
    "    print(f\"MSE: {mse}\")\n",
    "    print(f\"MAE: {mae}\")"
   ]
  },
  {
   "attachments": {},
   "cell_type": "markdown",
   "id": "f1f415d0-6934-4c99-a039-e91c9b606a7f",
   "metadata": {},
   "source": [
    "### Future Forecast for next five months for each time series"
   ]
  },
  {
   "cell_type": "code",
   "execution_count": null,
   "id": "a8409210-1382-42d5-add4-f741088f238b",
   "metadata": {},
   "outputs": [],
   "source": [
    "# Iterate over each active principle\n",
    "for active_principle, params in sarima_params.items():\n",
    "    # Get data for the current active principle\n",
    "    x = processed_data[active_principle]\n",
    "    # Split data into train and test sets with an 90-10 ratio\n",
    "    train, test = train_test_split(x, test_size=0.1, shuffle=False)\n",
    "    \n",
    "    # Fit SARIMA\n",
    "    model = SARIMAX(train, order=params['order'], seasonal_order=params['seasonal_order'])\n",
    "    model_fit = model.fit()\n",
    "    \n",
    "    # Make forecast for one five months\n",
    "    forecast = model_fit.get_forecast(steps=10, alpha=0.05)\n",
    "    forecast_values = forecast.predicted_mean\n",
    "    conf = forecast.conf_int()\n",
    "    \n",
    "    # Forecast five months\n",
    "    forecast_dates = pd.date_range(start=x.index[-1] + pd.Timedelta(days=15), periods=10, freq='15D')\n",
    "    \n",
    "    # Create forecast DataFrame\n",
    "    forecast_data = {\n",
    "        'Date': forecast_dates,\n",
    "        'FC_VALUES': forecast_values,\n",
    "        'LOWER_VALUES': conf[f'lower {active_principle}'],\n",
    "        'UPPER_VALUES': conf[f'upper {active_principle}']\n",
    "    }\n",
    "    df_forecast = pd.DataFrame(forecast_data)\n",
    "    \n",
    "    y_label = 'Cantidad (L)' if active_principle == 'CLORURO DE SODIO' or active_principle == 'LACTATO DE SODIO' else 'Cantidad (G)'\n",
    "\n",
    "    # Plot forecast\n",
    "    plt.figure(figsize=(12, 5))\n",
    "    plt.plot(train, label='Entrenamiento')\n",
    "    plt.plot(test, label='Prueba')\n",
    "    plt.plot(df_forecast['Date'], df_forecast['FC_VALUES'], label='Forecast', color='green')\n",
    "    plt.fill_between(df_forecast['Date'], df_forecast['LOWER_VALUES'], df_forecast['UPPER_VALUES'], color='k', alpha=0.2)\n",
    "    plt.title(f'Pronósticos para los siguientes 5 meses - {active_principle}'.upper())\n",
    "    plt.xlabel('Años')\n",
    "    plt.ylabel(y_label)\n",
    "    plt.legend(loc='upper left', fontsize=10)\n",
    "    plt.show()"
   ]
  }
 ],
 "metadata": {
  "kernelspec": {
   "display_name": "Python 3 (ipykernel)",
   "language": "python",
   "name": "python3"
  },
  "language_info": {
   "codemirror_mode": {
    "name": "ipython",
    "version": 3
   },
   "file_extension": ".py",
   "mimetype": "text/x-python",
   "name": "python",
   "nbconvert_exporter": "python",
   "pygments_lexer": "ipython3",
   "version": "3.10.14"
  }
 },
 "nbformat": 4,
 "nbformat_minor": 5
}
